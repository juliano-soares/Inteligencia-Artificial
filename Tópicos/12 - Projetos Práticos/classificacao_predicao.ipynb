{
  "nbformat": 4,
  "nbformat_minor": 0,
  "metadata": {
    "colab": {
      "name": "classificacao_predicao.ipynb",
      "provenance": [],
      "collapsed_sections": []
    },
    "kernelspec": {
      "name": "python3",
      "display_name": "Python 3"
    }
  },
  "cells": [
    {
      "cell_type": "code",
      "metadata": {
        "id": "Phw4RwESGytx"
      },
      "source": [
        "portatilA = [0,1,1]\n",
        "portatilB = [1,1,1]\n",
        "portatilC = [1,0,1]\n",
        "portatilD = [1,0,0]\n",
        "portatilE = [1,1,0]\n",
        "portatilF = [0,1,0]"
      ],
      "execution_count": null,
      "outputs": []
    },
    {
      "cell_type": "code",
      "metadata": {
        "colab": {
          "base_uri": "https://localhost:8080/"
        },
        "id": "A-rAke40JXJY",
        "outputId": "001e66d4-b3f3-4a27-f70f-f1e13620fdcd"
      },
      "source": [
        "portatilC"
      ],
      "execution_count": null,
      "outputs": [
        {
          "output_type": "execute_result",
          "data": {
            "text/plain": [
              "[1, 0, 1]"
            ]
          },
          "metadata": {
            "tags": []
          },
          "execution_count": 3
        }
      ]
    },
    {
      "cell_type": "code",
      "metadata": {
        "colab": {
          "base_uri": "https://localhost:8080/"
        },
        "id": "9JaiTf55Jemp",
        "outputId": "f58c00fb-43d0-44c6-e922-56c9edf12a3a"
      },
      "source": [
        "database = [portatilA, portatilB, portatilC, portatilD, portatilE, portatilF]\n",
        "database"
      ],
      "execution_count": null,
      "outputs": [
        {
          "output_type": "execute_result",
          "data": {
            "text/plain": [
              "[[0, 1, 1], [1, 1, 1], [1, 0, 1], [1, 0, 0], [1, 1, 0], [0, 1, 0]]"
            ]
          },
          "metadata": {
            "tags": []
          },
          "execution_count": 4
        }
      ]
    },
    {
      "cell_type": "code",
      "metadata": {
        "colab": {
          "base_uri": "https://localhost:8080/"
        },
        "id": "1r3oMwmJJ5Cx",
        "outputId": "bf678f85-21ea-4fa9-b95c-6a04426bc8d0"
      },
      "source": [
        "rotulo = ['Smartphone','Smartphone','Smartphone','Tablet','Tablet','Tablet']\n",
        "rotulo"
      ],
      "execution_count": null,
      "outputs": [
        {
          "output_type": "execute_result",
          "data": {
            "text/plain": [
              "['Smartphone', 'Smartphone', 'Smartphone', 'Tablet', 'Tablet', 'Tablet']"
            ]
          },
          "metadata": {
            "tags": []
          },
          "execution_count": 5
        }
      ]
    },
    {
      "cell_type": "code",
      "metadata": {
        "colab": {
          "base_uri": "https://localhost:8080/"
        },
        "id": "HopUIypno7gy",
        "outputId": "8651f8ec-d3d9-48fd-b901-20c9797a2d5a"
      },
      "source": [
        "from sklearn.dummy import DummyClassifier\n",
        "modelo = DummyClassifier()\n",
        "modelo.fit(database,rotulo)"
      ],
      "execution_count": null,
      "outputs": [
        {
          "output_type": "stream",
          "text": [
            "/usr/local/lib/python3.6/dist-packages/sklearn/dummy.py:132: FutureWarning: The default value of strategy will change from stratified to prior in 0.24.\n",
            "  \"stratified to prior in 0.24.\", FutureWarning)\n"
          ],
          "name": "stderr"
        },
        {
          "output_type": "execute_result",
          "data": {
            "text/plain": [
              "DummyClassifier(constant=None, random_state=None, strategy='warn')"
            ]
          },
          "metadata": {
            "tags": []
          },
          "execution_count": 6
        }
      ]
    },
    {
      "cell_type": "code",
      "metadata": {
        "id": "z-q_8ECO35VZ"
      },
      "source": [
        "desconhecido1 = [0,0,1]\n",
        "desconhecido2 = [0,1,0]\n",
        "desconhecido3 = [1,0,0]\n",
        "desconhecido4 = [1,1,1]\n",
        "desconhecido5 = [1,0,1]\n",
        "desconhecido6 = [1,1,0]\n",
        "desconhecido7 = [0,1,1]\n",
        "desconhecido8 = [0,0,0]"
      ],
      "execution_count": null,
      "outputs": []
    },
    {
      "cell_type": "code",
      "metadata": {
        "colab": {
          "base_uri": "https://localhost:8080/"
        },
        "id": "dueZmUdG4831",
        "outputId": "60b53a22-497d-43ea-ff70-8af50da96b5e"
      },
      "source": [
        "portateisDesconhecidos = [desconhecido1, desconhecido2, desconhecido3,\n",
        "                          desconhecido4, desconhecido5, desconhecido6,\n",
        "                          desconhecido7, desconhecido8]\n",
        "portateisDesconhecidos"
      ],
      "execution_count": null,
      "outputs": [
        {
          "output_type": "execute_result",
          "data": {
            "text/plain": [
              "[[0, 0, 1],\n",
              " [0, 1, 0],\n",
              " [1, 0, 0],\n",
              " [1, 1, 1],\n",
              " [1, 0, 1],\n",
              " [1, 1, 0],\n",
              " [0, 1, 1],\n",
              " [0, 0, 0]]"
            ]
          },
          "metadata": {
            "tags": []
          },
          "execution_count": 8
        }
      ]
    },
    {
      "cell_type": "code",
      "metadata": {
        "id": "16cfcYR952B0"
      },
      "source": [
        "y_pred = modelo.predict(portateisDesconhecidos)"
      ],
      "execution_count": null,
      "outputs": []
    },
    {
      "cell_type": "code",
      "metadata": {
        "colab": {
          "base_uri": "https://localhost:8080/"
        },
        "id": "IKDA5HZL6GiM",
        "outputId": "d477b301-9d0e-4eda-9d59-497c26b3d680"
      },
      "source": [
        "y_true = ['Smartphone','Tablet','Tablet','Smartphone','Smartphone','Tablet','Smartphone','Tablet']\n",
        "y_true"
      ],
      "execution_count": null,
      "outputs": [
        {
          "output_type": "execute_result",
          "data": {
            "text/plain": [
              "['Smartphone',\n",
              " 'Tablet',\n",
              " 'Tablet',\n",
              " 'Smartphone',\n",
              " 'Smartphone',\n",
              " 'Tablet',\n",
              " 'Smartphone',\n",
              " 'Tablet']"
            ]
          },
          "metadata": {
            "tags": []
          },
          "execution_count": 10
        }
      ]
    },
    {
      "cell_type": "code",
      "metadata": {
        "colab": {
          "base_uri": "https://localhost:8080/"
        },
        "id": "BC4g5Iw36upa",
        "outputId": "64639e7b-0258-4a89-a04e-67d83f1306cb"
      },
      "source": [
        "print('Resultados obtidos: ')\n",
        "print(y_pred)\n",
        "print('\\n Resultados esperados: ')\n",
        "print(y_true)"
      ],
      "execution_count": null,
      "outputs": [
        {
          "output_type": "stream",
          "text": [
            "Resultados obtidos: \n",
            "['Smartphone' 'Tablet' 'Smartphone' 'Tablet' 'Tablet' 'Smartphone'\n",
            " 'Tablet' 'Tablet']\n",
            "\n",
            " Resultados esperados: \n",
            "['Smartphone', 'Tablet', 'Tablet', 'Smartphone', 'Smartphone', 'Tablet', 'Smartphone', 'Tablet']\n"
          ],
          "name": "stdout"
        }
      ]
    },
    {
      "cell_type": "code",
      "metadata": {
        "colab": {
          "base_uri": "https://localhost:8080/"
        },
        "id": "XBtmkZ7K7L3R",
        "outputId": "234aa231-84e3-4eb5-999c-c0fc4382f265"
      },
      "source": [
        "from sklearn import metrics\n",
        "\n",
        "print('Precisão: ' + str(metrics.precision_score(y_true,y_pred,average='macro')))"
      ],
      "execution_count": null,
      "outputs": [
        {
          "output_type": "stream",
          "text": [
            "Precisão: 0.3666666666666667\n"
          ],
          "name": "stdout"
        }
      ]
    }
  ]
}