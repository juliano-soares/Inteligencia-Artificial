{
 "cells": [
  {
   "cell_type": "markdown",
   "metadata": {},
   "source": [
    "# Exemplo utilizando Matplotlib\n"
   ]
  },
  {
   "cell_type": "code",
   "execution_count": 2,
   "metadata": {},
   "outputs": [
    {
     "ename": "ModuleNotFoundError",
     "evalue": "No module named 'matplotlib'",
     "output_type": "error",
     "traceback": [
      "\u001b[1;31m---------------------------------------------------------------------------\u001b[0m",
      "\u001b[1;31mModuleNotFoundError\u001b[0m                       Traceback (most recent call last)",
      "\u001b[1;32mc:\\Users\\julia\\OneDrive\\Área de Trabalho\\Meus Cursos\\Machine Learning\\Projetos\\2.2 - Python para Machine Learning\\02-matplotlib.ipynb Cell 2'\u001b[0m in \u001b[0;36m<cell line: 1>\u001b[1;34m()\u001b[0m\n\u001b[1;32m----> <a href='vscode-notebook-cell:/c%3A/Users/julia/OneDrive/%C3%81rea%20de%20Trabalho/Meus%20Cursos/Machine%20Learning/Projetos/2.2%20-%20Python%20para%20Machine%20Learning/02-matplotlib.ipynb#ch0000001?line=0'>1</a>\u001b[0m \u001b[39mimport\u001b[39;00m \u001b[39mmatplotlib\u001b[39;00m\n\u001b[0;32m      <a href='vscode-notebook-cell:/c%3A/Users/julia/OneDrive/%C3%81rea%20de%20Trabalho/Meus%20Cursos/Machine%20Learning/Projetos/2.2%20-%20Python%20para%20Machine%20Learning/02-matplotlib.ipynb#ch0000001?line=2'>3</a>\u001b[0m \u001b[39mfrom\u001b[39;00m \u001b[39msklearn\u001b[39;00m\u001b[39m.\u001b[39;00m\u001b[39mdatasets\u001b[39;00m \u001b[39mimport\u001b[39;00m make_regression\n\u001b[0;32m      <a href='vscode-notebook-cell:/c%3A/Users/julia/OneDrive/%C3%81rea%20de%20Trabalho/Meus%20Cursos/Machine%20Learning/Projetos/2.2%20-%20Python%20para%20Machine%20Learning/02-matplotlib.ipynb#ch0000001?line=4'>5</a>\u001b[0m x, y \u001b[39m=\u001b[39m make_regression(n_samples, n_features\u001b[39m=\u001b[39m\u001b[39m1\u001b[39m, noise\u001b[39m=\u001b[39m\u001b[39m30\u001b[39m)\n",
      "\u001b[1;31mModuleNotFoundError\u001b[0m: No module named 'matplotlib'"
     ]
    }
   ],
   "source": [
    "import matplotlib\n",
    "\n",
    "from sklearn.datasets import make_regression\n",
    "\n",
    "x, y = make_regression(n_samples, n_features=1, noise=30)\n",
    "\n",
    "import matplotlib.pyplot as plt"
   ]
  },
  {
   "cell_type": "code",
   "execution_count": 3,
   "metadata": {},
   "outputs": [
    {
     "ename": "NameError",
     "evalue": "name 'plt' is not defined",
     "output_type": "error",
     "traceback": [
      "\u001b[1;31m---------------------------------------------------------------------------\u001b[0m",
      "\u001b[1;31mNameError\u001b[0m                                 Traceback (most recent call last)",
      "\u001b[1;32mc:\\Users\\julia\\OneDrive\\Área de Trabalho\\Meus Cursos\\Machine Learning\\Projetos\\2.2 - Python para Machine Learning\\02-matplotlib.ipynb Cell 3'\u001b[0m in \u001b[0;36m<cell line: 1>\u001b[1;34m()\u001b[0m\n\u001b[1;32m----> <a href='vscode-notebook-cell:/c%3A/Users/julia/OneDrive/%C3%81rea%20de%20Trabalho/Meus%20Cursos/Machine%20Learning/Projetos/2.2%20-%20Python%20para%20Machine%20Learning/02-matplotlib.ipynb#ch0000003?line=0'>1</a>\u001b[0m plt\u001b[39m.\u001b[39mscatter(x, y)\n\u001b[0;32m      <a href='vscode-notebook-cell:/c%3A/Users/julia/OneDrive/%C3%81rea%20de%20Trabalho/Meus%20Cursos/Machine%20Learning/Projetos/2.2%20-%20Python%20para%20Machine%20Learning/02-matplotlib.ipynb#ch0000003?line=1'>2</a>\u001b[0m plt\u001b[39m.\u001b[39mshow()\n",
      "\u001b[1;31mNameError\u001b[0m: name 'plt' is not defined"
     ]
    }
   ],
   "source": [
    "plt.scatter(x, y)\n",
    "plt.show()"
   ]
  }
 ],
 "metadata": {
  "kernelspec": {
   "display_name": "Python 3.10.5 64-bit (windows store)",
   "language": "python",
   "name": "python3"
  },
  "language_info": {
   "codemirror_mode": {
    "name": "ipython",
    "version": 3
   },
   "file_extension": ".py",
   "mimetype": "text/x-python",
   "name": "python",
   "nbconvert_exporter": "python",
   "pygments_lexer": "ipython3",
   "version": "3.10.5"
  },
  "orig_nbformat": 4,
  "vscode": {
   "interpreter": {
    "hash": "c2f610f15281af5cb48d9946ea6fc944bf7f3194e1c5110b7e3dffccd31f5179"
   }
  }
 },
 "nbformat": 4,
 "nbformat_minor": 2
}
