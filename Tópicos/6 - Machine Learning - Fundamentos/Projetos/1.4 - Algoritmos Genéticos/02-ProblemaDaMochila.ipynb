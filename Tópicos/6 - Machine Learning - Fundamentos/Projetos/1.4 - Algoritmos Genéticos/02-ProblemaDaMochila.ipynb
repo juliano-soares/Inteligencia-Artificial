{
 "cells": [
  {
   "cell_type": "markdown",
   "metadata": {},
   "source": [
    "# Algoritmo genético para resolver o problema da mochila\n",
    "---\n",
    "\n",
    "Instalação das bibliotecas necessárias\n",
    "\n",
    "O problema da mochila é um problema de "
   ]
  }
 ],
 "metadata": {
  "language_info": {
   "name": "python"
  },
  "orig_nbformat": 4
 },
 "nbformat": 4,
 "nbformat_minor": 2
}
